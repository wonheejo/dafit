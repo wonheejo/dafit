{
 "cells": [
  {
   "cell_type": "code",
   "execution_count": 45,
   "metadata": {},
   "outputs": [],
   "source": [
    "import pandas as pd\n",
    "import numpy as np\n",
    "from sklearn.model_selection import train_test_split, cross_val_score\n",
    "from sklearn.tree import DecisionTreeClassifier, export_graphviz, plot_tree\n",
    "from sklearn.metrics import f1_score"
   ]
  },
  {
   "cell_type": "code",
   "execution_count": 6,
   "metadata": {},
   "outputs": [],
   "source": [
    "train = pd.read_csv('dataset_37_diabetes.csv')"
   ]
  },
  {
   "cell_type": "code",
   "execution_count": 7,
   "metadata": {},
   "outputs": [],
   "source": [
    "# Information about the columns and diabetes in general to understand about diabetes and the tests done to check for type1 and type2 diabetes\n",
    "# Type 1 diabetes is often diagnosed more rapidly because it usually develops rapidly and involves high blood sugar levels and symptoms\n",
    "# Type 2 diabetes develops often in over the course of years. Most common diabetes and usually develops during adulthood\n",
    "# Diabetes can cause pregnancy complications and is usually recommended to test withtin 24~28 weeks of pregnancy.\n",
    "\n",
    "\n",
    "# preg = Number of times pregnant\n",
    "# plas = Plasma glucose concentration in a 2 hours in an oral glucose test\n",
    "    # This measures how much the body is able to absorb the gluose(sugar). This is usually done to test diabetes during pregnency\n",
    "# pres = Diastolic blood pressure(mm Hg) - this cannot be 0 because no one has 0 blood pressure when they are alive. \n",
    "# skin = Triceps skin folding thickness(mm)\n",
    "# insu = 2 Hour serum insulin(mu U/ml) // Test is used to find out the levels of insulin in blood, Basically whether the patient is making enough insulin or not \n",
    "# mass = body mass index(weight in kgs) - BMI, it is considered overweight when BMI is greater than 25\n",
    "# pedi = Diabetes pedigree function\n",
    "# age = Age of patient\n",
    "# class = Target(whether patient has diabetes or not)"
   ]
  },
  {
   "cell_type": "code",
   "execution_count": 8,
   "metadata": {},
   "outputs": [
    {
     "data": {
      "text/plain": [
       "preg     111\n",
       "plas       5\n",
       "pres      35\n",
       "skin     227\n",
       "insu     374\n",
       "mass      11\n",
       "pedi       0\n",
       "age        0\n",
       "class      0\n",
       "dtype: int64"
      ]
     },
     "execution_count": 8,
     "metadata": {},
     "output_type": "execute_result"
    }
   ],
   "source": [
    "# Since there are no missing values this looks for the values that are 0\n",
    "zeros = (train==0).astype(int).sum(axis=0)\n",
    "zeros"
   ]
  },
  {
   "cell_type": "code",
   "execution_count": 9,
   "metadata": {},
   "outputs": [],
   "source": [
    "# Change the 0 values to NaNs to fill in the missing values\n",
    "cols = ['mass', 'pres', 'plas']\n",
    "train[cols] = train[cols].replace({0: np.nan})"
   ]
  },
  {
   "cell_type": "code",
   "execution_count": 10,
   "metadata": {},
   "outputs": [],
   "source": [
    "train['mass'].fillna(train.groupby('age')['mass'].transform('mean'), inplace=True)\n",
    "train['plas'].fillna(train.groupby('mass')['plas'].transform('mean'), inplace=True)\n",
    "train['pres'].fillna(train.groupby('mass')['pres'].transform('mean'), inplace=True)\n",
    "train['pres'].fillna(train.groupby('age')['pres'].transform('mean'), inplace=True)"
   ]
  },
  {
   "cell_type": "code",
   "execution_count": 11,
   "metadata": {},
   "outputs": [
    {
     "data": {
      "text/plain": [
       "preg     111\n",
       "plas       0\n",
       "pres       0\n",
       "skin     227\n",
       "insu     374\n",
       "mass       0\n",
       "pedi       0\n",
       "age        0\n",
       "class      0\n",
       "dtype: int64"
      ]
     },
     "execution_count": 11,
     "metadata": {},
     "output_type": "execute_result"
    }
   ],
   "source": [
    "zeros = (train==0).astype(int).sum(axis=0)\n",
    "zeros"
   ]
  },
  {
   "cell_type": "code",
   "execution_count": 12,
   "metadata": {},
   "outputs": [
    {
     "data": {
      "text/plain": [
       "preg     0\n",
       "plas     1\n",
       "pres     0\n",
       "skin     0\n",
       "insu     0\n",
       "mass     0\n",
       "pedi     0\n",
       "age      0\n",
       "class    0\n",
       "dtype: int64"
      ]
     },
     "execution_count": 12,
     "metadata": {},
     "output_type": "execute_result"
    }
   ],
   "source": [
    "train.isna().sum()"
   ]
  },
  {
   "cell_type": "code",
   "execution_count": 13,
   "metadata": {},
   "outputs": [],
   "source": [
    "train['plas'].fillna(train.groupby('age')['plas'].transform('mean'), inplace=True)"
   ]
  },
  {
   "cell_type": "code",
   "execution_count": 14,
   "metadata": {},
   "outputs": [
    {
     "data": {
      "text/plain": [
       "preg     0\n",
       "plas     0\n",
       "pres     0\n",
       "skin     0\n",
       "insu     0\n",
       "mass     0\n",
       "pedi     0\n",
       "age      0\n",
       "class    0\n",
       "dtype: int64"
      ]
     },
     "execution_count": 14,
     "metadata": {},
     "output_type": "execute_result"
    }
   ],
   "source": [
    "train.isna().sum()"
   ]
  },
  {
   "cell_type": "code",
   "execution_count": 17,
   "metadata": {},
   "outputs": [],
   "source": [
    "class_rename={'tested_positive': 1, 'tested_negative': 0}\n",
    "train['class'] = train['class'].map(class_rename)"
   ]
  },
  {
   "cell_type": "code",
   "execution_count": 18,
   "metadata": {},
   "outputs": [
    {
     "data": {
      "text/html": [
       "<div>\n",
       "<style scoped>\n",
       "    .dataframe tbody tr th:only-of-type {\n",
       "        vertical-align: middle;\n",
       "    }\n",
       "\n",
       "    .dataframe tbody tr th {\n",
       "        vertical-align: top;\n",
       "    }\n",
       "\n",
       "    .dataframe thead th {\n",
       "        text-align: right;\n",
       "    }\n",
       "</style>\n",
       "<table border=\"1\" class=\"dataframe\">\n",
       "  <thead>\n",
       "    <tr style=\"text-align: right;\">\n",
       "      <th></th>\n",
       "      <th>preg</th>\n",
       "      <th>plas</th>\n",
       "      <th>pres</th>\n",
       "      <th>skin</th>\n",
       "      <th>insu</th>\n",
       "      <th>mass</th>\n",
       "      <th>pedi</th>\n",
       "      <th>age</th>\n",
       "      <th>class</th>\n",
       "    </tr>\n",
       "  </thead>\n",
       "  <tbody>\n",
       "    <tr>\n",
       "      <th>0</th>\n",
       "      <td>6</td>\n",
       "      <td>148.0</td>\n",
       "      <td>72.0</td>\n",
       "      <td>35</td>\n",
       "      <td>0</td>\n",
       "      <td>33.6</td>\n",
       "      <td>0.627</td>\n",
       "      <td>50</td>\n",
       "      <td>1</td>\n",
       "    </tr>\n",
       "    <tr>\n",
       "      <th>1</th>\n",
       "      <td>1</td>\n",
       "      <td>85.0</td>\n",
       "      <td>66.0</td>\n",
       "      <td>29</td>\n",
       "      <td>0</td>\n",
       "      <td>26.6</td>\n",
       "      <td>0.351</td>\n",
       "      <td>31</td>\n",
       "      <td>0</td>\n",
       "    </tr>\n",
       "    <tr>\n",
       "      <th>2</th>\n",
       "      <td>8</td>\n",
       "      <td>183.0</td>\n",
       "      <td>64.0</td>\n",
       "      <td>0</td>\n",
       "      <td>0</td>\n",
       "      <td>23.3</td>\n",
       "      <td>0.672</td>\n",
       "      <td>32</td>\n",
       "      <td>1</td>\n",
       "    </tr>\n",
       "    <tr>\n",
       "      <th>3</th>\n",
       "      <td>1</td>\n",
       "      <td>89.0</td>\n",
       "      <td>66.0</td>\n",
       "      <td>23</td>\n",
       "      <td>94</td>\n",
       "      <td>28.1</td>\n",
       "      <td>0.167</td>\n",
       "      <td>21</td>\n",
       "      <td>0</td>\n",
       "    </tr>\n",
       "    <tr>\n",
       "      <th>4</th>\n",
       "      <td>0</td>\n",
       "      <td>137.0</td>\n",
       "      <td>40.0</td>\n",
       "      <td>35</td>\n",
       "      <td>168</td>\n",
       "      <td>43.1</td>\n",
       "      <td>2.288</td>\n",
       "      <td>33</td>\n",
       "      <td>1</td>\n",
       "    </tr>\n",
       "  </tbody>\n",
       "</table>\n",
       "</div>"
      ],
      "text/plain": [
       "   preg   plas  pres  skin  insu  mass   pedi  age  class\n",
       "0     6  148.0  72.0    35     0  33.6  0.627   50      1\n",
       "1     1   85.0  66.0    29     0  26.6  0.351   31      0\n",
       "2     8  183.0  64.0     0     0  23.3  0.672   32      1\n",
       "3     1   89.0  66.0    23    94  28.1  0.167   21      0\n",
       "4     0  137.0  40.0    35   168  43.1  2.288   33      1"
      ]
     },
     "execution_count": 18,
     "metadata": {},
     "output_type": "execute_result"
    }
   ],
   "source": [
    "train.head()"
   ]
  },
  {
   "cell_type": "code",
   "execution_count": 22,
   "metadata": {},
   "outputs": [],
   "source": [
    "x_train = train.drop(['class'], axis=1)\n",
    "y_train = train['class']"
   ]
  },
  {
   "cell_type": "code",
   "execution_count": 23,
   "metadata": {},
   "outputs": [
    {
     "data": {
      "text/html": [
       "<div>\n",
       "<style scoped>\n",
       "    .dataframe tbody tr th:only-of-type {\n",
       "        vertical-align: middle;\n",
       "    }\n",
       "\n",
       "    .dataframe tbody tr th {\n",
       "        vertical-align: top;\n",
       "    }\n",
       "\n",
       "    .dataframe thead th {\n",
       "        text-align: right;\n",
       "    }\n",
       "</style>\n",
       "<table border=\"1\" class=\"dataframe\">\n",
       "  <thead>\n",
       "    <tr style=\"text-align: right;\">\n",
       "      <th></th>\n",
       "      <th>preg</th>\n",
       "      <th>plas</th>\n",
       "      <th>pres</th>\n",
       "      <th>skin</th>\n",
       "      <th>insu</th>\n",
       "      <th>mass</th>\n",
       "      <th>pedi</th>\n",
       "      <th>age</th>\n",
       "    </tr>\n",
       "  </thead>\n",
       "  <tbody>\n",
       "    <tr>\n",
       "      <th>0</th>\n",
       "      <td>6</td>\n",
       "      <td>148.0</td>\n",
       "      <td>72.0</td>\n",
       "      <td>35</td>\n",
       "      <td>0</td>\n",
       "      <td>33.6</td>\n",
       "      <td>0.627</td>\n",
       "      <td>50</td>\n",
       "    </tr>\n",
       "    <tr>\n",
       "      <th>1</th>\n",
       "      <td>1</td>\n",
       "      <td>85.0</td>\n",
       "      <td>66.0</td>\n",
       "      <td>29</td>\n",
       "      <td>0</td>\n",
       "      <td>26.6</td>\n",
       "      <td>0.351</td>\n",
       "      <td>31</td>\n",
       "    </tr>\n",
       "    <tr>\n",
       "      <th>2</th>\n",
       "      <td>8</td>\n",
       "      <td>183.0</td>\n",
       "      <td>64.0</td>\n",
       "      <td>0</td>\n",
       "      <td>0</td>\n",
       "      <td>23.3</td>\n",
       "      <td>0.672</td>\n",
       "      <td>32</td>\n",
       "    </tr>\n",
       "    <tr>\n",
       "      <th>3</th>\n",
       "      <td>1</td>\n",
       "      <td>89.0</td>\n",
       "      <td>66.0</td>\n",
       "      <td>23</td>\n",
       "      <td>94</td>\n",
       "      <td>28.1</td>\n",
       "      <td>0.167</td>\n",
       "      <td>21</td>\n",
       "    </tr>\n",
       "    <tr>\n",
       "      <th>4</th>\n",
       "      <td>0</td>\n",
       "      <td>137.0</td>\n",
       "      <td>40.0</td>\n",
       "      <td>35</td>\n",
       "      <td>168</td>\n",
       "      <td>43.1</td>\n",
       "      <td>2.288</td>\n",
       "      <td>33</td>\n",
       "    </tr>\n",
       "    <tr>\n",
       "      <th>...</th>\n",
       "      <td>...</td>\n",
       "      <td>...</td>\n",
       "      <td>...</td>\n",
       "      <td>...</td>\n",
       "      <td>...</td>\n",
       "      <td>...</td>\n",
       "      <td>...</td>\n",
       "      <td>...</td>\n",
       "    </tr>\n",
       "    <tr>\n",
       "      <th>763</th>\n",
       "      <td>10</td>\n",
       "      <td>101.0</td>\n",
       "      <td>76.0</td>\n",
       "      <td>48</td>\n",
       "      <td>180</td>\n",
       "      <td>32.9</td>\n",
       "      <td>0.171</td>\n",
       "      <td>63</td>\n",
       "    </tr>\n",
       "    <tr>\n",
       "      <th>764</th>\n",
       "      <td>2</td>\n",
       "      <td>122.0</td>\n",
       "      <td>70.0</td>\n",
       "      <td>27</td>\n",
       "      <td>0</td>\n",
       "      <td>36.8</td>\n",
       "      <td>0.340</td>\n",
       "      <td>27</td>\n",
       "    </tr>\n",
       "    <tr>\n",
       "      <th>765</th>\n",
       "      <td>5</td>\n",
       "      <td>121.0</td>\n",
       "      <td>72.0</td>\n",
       "      <td>23</td>\n",
       "      <td>112</td>\n",
       "      <td>26.2</td>\n",
       "      <td>0.245</td>\n",
       "      <td>30</td>\n",
       "    </tr>\n",
       "    <tr>\n",
       "      <th>766</th>\n",
       "      <td>1</td>\n",
       "      <td>126.0</td>\n",
       "      <td>60.0</td>\n",
       "      <td>0</td>\n",
       "      <td>0</td>\n",
       "      <td>30.1</td>\n",
       "      <td>0.349</td>\n",
       "      <td>47</td>\n",
       "    </tr>\n",
       "    <tr>\n",
       "      <th>767</th>\n",
       "      <td>1</td>\n",
       "      <td>93.0</td>\n",
       "      <td>70.0</td>\n",
       "      <td>31</td>\n",
       "      <td>0</td>\n",
       "      <td>30.4</td>\n",
       "      <td>0.315</td>\n",
       "      <td>23</td>\n",
       "    </tr>\n",
       "  </tbody>\n",
       "</table>\n",
       "<p>768 rows × 8 columns</p>\n",
       "</div>"
      ],
      "text/plain": [
       "     preg   plas  pres  skin  insu  mass   pedi  age\n",
       "0       6  148.0  72.0    35     0  33.6  0.627   50\n",
       "1       1   85.0  66.0    29     0  26.6  0.351   31\n",
       "2       8  183.0  64.0     0     0  23.3  0.672   32\n",
       "3       1   89.0  66.0    23    94  28.1  0.167   21\n",
       "4       0  137.0  40.0    35   168  43.1  2.288   33\n",
       "..    ...    ...   ...   ...   ...   ...    ...  ...\n",
       "763    10  101.0  76.0    48   180  32.9  0.171   63\n",
       "764     2  122.0  70.0    27     0  36.8  0.340   27\n",
       "765     5  121.0  72.0    23   112  26.2  0.245   30\n",
       "766     1  126.0  60.0     0     0  30.1  0.349   47\n",
       "767     1   93.0  70.0    31     0  30.4  0.315   23\n",
       "\n",
       "[768 rows x 8 columns]"
      ]
     },
     "execution_count": 23,
     "metadata": {},
     "output_type": "execute_result"
    }
   ],
   "source": [
    "x_train"
   ]
  },
  {
   "cell_type": "code",
   "execution_count": 24,
   "metadata": {},
   "outputs": [
    {
     "data": {
      "text/plain": [
       "0      1\n",
       "1      0\n",
       "2      1\n",
       "3      0\n",
       "4      1\n",
       "      ..\n",
       "763    0\n",
       "764    0\n",
       "765    0\n",
       "766    1\n",
       "767    0\n",
       "Name: class, Length: 768, dtype: int64"
      ]
     },
     "execution_count": 24,
     "metadata": {},
     "output_type": "execute_result"
    }
   ],
   "source": [
    "y_train"
   ]
  },
  {
   "cell_type": "code",
   "execution_count": 25,
   "metadata": {},
   "outputs": [],
   "source": [
    "X_train, x_test, Y_train, y_test = train_test_split(x_train, y_train, test_size=0.2, random_state=3)"
   ]
  },
  {
   "cell_type": "code",
   "execution_count": 27,
   "metadata": {},
   "outputs": [
    {
     "data": {
      "text/plain": [
       "(     preg   plas   pres  skin  insu  mass   pedi  age\n",
       " 468     8  120.0  77.75     0     0  30.0  0.183   38\n",
       " 478     8  126.0  74.00    38    75  25.9  0.162   39\n",
       " 107     4  144.0  58.00    28   140  29.5  0.287   37\n",
       " 304     3  150.0  76.00     0     0  21.0  0.207   37\n",
       " 515     3  163.0  70.00    18   105  31.6  0.268   28\n",
       " ..    ...    ...    ...   ...   ...   ...    ...  ...\n",
       " 659     3   80.0  82.00    31    70  34.2  1.292   27\n",
       " 256     3  111.0  56.00    39     0  30.1  0.557   30\n",
       " 643     4   90.0  77.50     0     0  28.0  0.610   31\n",
       " 249     1  111.0  86.00    19     0  30.1  0.143   23\n",
       " 664     6  115.0  60.00    39     0  33.7  0.245   40\n",
       " \n",
       " [614 rows x 8 columns], 468    1\n",
       " 478    0\n",
       " 107    0\n",
       " 304    0\n",
       " 515    1\n",
       "       ..\n",
       " 659    1\n",
       " 256    0\n",
       " 643    0\n",
       " 249    0\n",
       " 664    1\n",
       " Name: class, Length: 614, dtype: int64)"
      ]
     },
     "execution_count": 27,
     "metadata": {},
     "output_type": "execute_result"
    }
   ],
   "source": [
    "X_train, Y_train"
   ]
  },
  {
   "cell_type": "code",
   "execution_count": 28,
   "metadata": {},
   "outputs": [],
   "source": [
    "dt_clf = DecisionTreeClassifier()"
   ]
  },
  {
   "cell_type": "code",
   "execution_count": 30,
   "metadata": {},
   "outputs": [
    {
     "data": {
      "text/plain": [
       "array([0.75806452, 0.79032258, 0.66129032, 0.77419355, 0.68852459,\n",
       "       0.6557377 , 0.75409836, 0.67213115, 0.78688525, 0.73770492])"
      ]
     },
     "execution_count": 30,
     "metadata": {},
     "output_type": "execute_result"
    }
   ],
   "source": [
    "dt_clf.fit(X_train, Y_train)\n",
    "dt_clf_cvs = cross_val_score(dt_clf, X_train, Y_train, cv=10, scoring='accuracy')\n",
    "dt_clf_cvs"
   ]
  },
  {
   "cell_type": "code",
   "execution_count": 32,
   "metadata": {},
   "outputs": [
    {
     "data": {
      "text/plain": [
       "0.727895293495505"
      ]
     },
     "execution_count": 32,
     "metadata": {},
     "output_type": "execute_result"
    }
   ],
   "source": [
    "dt_clf_cvs.mean()"
   ]
  },
  {
   "cell_type": "code",
   "execution_count": 33,
   "metadata": {},
   "outputs": [
    {
     "data": {
      "text/plain": [
       "0.7068217874140666"
      ]
     },
     "execution_count": 33,
     "metadata": {},
     "output_type": "execute_result"
    }
   ],
   "source": [
    "dt_clf_2 = DecisionTreeClassifier(max_depth=2)\n",
    "dt_clf_2_cvs = cross_val_score(dt_clf, X_train, Y_train, cv=10, scoring='accuracy').mean()\n",
    "dt_clf_2_cvs"
   ]
  },
  {
   "cell_type": "code",
   "execution_count": 34,
   "metadata": {},
   "outputs": [
    {
     "data": {
      "text/plain": [
       "0.7312004230565837"
      ]
     },
     "execution_count": 34,
     "metadata": {},
     "output_type": "execute_result"
    }
   ],
   "source": [
    "dt_clf_2 = DecisionTreeClassifier(max_depth=3)\n",
    "dt_clf_2_cvs = cross_val_score(dt_clf, X_train, Y_train, cv=10, scoring='accuracy').mean()\n",
    "dt_clf_2_cvs"
   ]
  },
  {
   "cell_type": "code",
   "execution_count": 35,
   "metadata": {},
   "outputs": [
    {
     "data": {
      "text/plain": [
       "0.7132469592808037"
      ]
     },
     "execution_count": 35,
     "metadata": {},
     "output_type": "execute_result"
    }
   ],
   "source": [
    "dt_clf_2 = DecisionTreeClassifier(max_depth=4)\n",
    "dt_clf_2_cvs = cross_val_score(dt_clf, X_train, Y_train, cv=10, scoring='accuracy').mean()\n",
    "dt_clf_2_cvs"
   ]
  },
  {
   "cell_type": "code",
   "execution_count": 36,
   "metadata": {},
   "outputs": [
    {
     "data": {
      "text/plain": [
       "0.7083818085668957"
      ]
     },
     "execution_count": 36,
     "metadata": {},
     "output_type": "execute_result"
    }
   ],
   "source": [
    "dt_clf_2 = DecisionTreeClassifier(max_depth=5)\n",
    "dt_clf_2_cvs = cross_val_score(dt_clf, X_train, Y_train, cv=10, scoring='accuracy').mean()\n",
    "dt_clf_2_cvs"
   ]
  },
  {
   "cell_type": "code",
   "execution_count": 37,
   "metadata": {},
   "outputs": [
    {
     "data": {
      "text/plain": [
       "0.7214436805922791"
      ]
     },
     "execution_count": 37,
     "metadata": {},
     "output_type": "execute_result"
    }
   ],
   "source": [
    "dt_clf_2 = DecisionTreeClassifier(max_depth=6)\n",
    "dt_clf_2_cvs = cross_val_score(dt_clf, X_train, Y_train, cv=10, scoring='accuracy').mean()\n",
    "dt_clf_2_cvs"
   ]
  },
  {
   "cell_type": "code",
   "execution_count": 38,
   "metadata": {},
   "outputs": [
    {
     "data": {
      "text/plain": [
       "0.7002908514013748"
      ]
     },
     "execution_count": 38,
     "metadata": {},
     "output_type": "execute_result"
    }
   ],
   "source": [
    "dt_clf_2 = DecisionTreeClassifier(max_depth=7)\n",
    "dt_clf_2_cvs = cross_val_score(dt_clf, X_train, Y_train, cv=10, scoring='accuracy').mean()\n",
    "dt_clf_2_cvs"
   ]
  },
  {
   "cell_type": "code",
   "execution_count": 39,
   "metadata": {},
   "outputs": [
    {
     "data": {
      "text/plain": [
       "0.7230830248545743"
      ]
     },
     "execution_count": 39,
     "metadata": {},
     "output_type": "execute_result"
    }
   ],
   "source": [
    "dt_clf_2 = DecisionTreeClassifier(max_depth=3)\n",
    "dt_clf_2_cvs = cross_val_score(dt_clf, X_train, Y_train, cv=10, scoring='accuracy').mean()\n",
    "dt_clf_2_cvs"
   ]
  },
  {
   "cell_type": "code",
   "execution_count": 46,
   "metadata": {
    "scrolled": true
   },
   "outputs": [
    {
     "data": {
      "text/plain": [
       "[Text(169.02095070422536, 209.07692307692307, 'X[1] <= 130.5\\ngini = 0.446\\nsamples = 614\\nvalue = [408, 206]'),\n",
       " Text(76.33204225352114, 192.35076923076923, 'X[7] <= 28.5\\ngini = 0.301\\nsamples = 417\\nvalue = [340, 77]'),\n",
       " Text(31.6330985915493, 175.62461538461537, 'X[5] <= 30.45\\ngini = 0.151\\nsamples = 231\\nvalue = [212, 19]'),\n",
       " Text(9.430985915492958, 158.89846153846153, 'X[0] <= 7.0\\ngini = 0.032\\nsamples = 122\\nvalue = [120, 2]'),\n",
       " Text(6.287323943661972, 142.1723076923077, 'X[1] <= 128.5\\ngini = 0.016\\nsamples = 121\\nvalue = [120, 1]'),\n",
       " Text(3.143661971830986, 125.44615384615385, 'gini = 0.0\\nsamples = 115\\nvalue = [115, 0]'),\n",
       " Text(9.430985915492958, 125.44615384615385, 'X[3] <= 26.0\\ngini = 0.278\\nsamples = 6\\nvalue = [5, 1]'),\n",
       " Text(6.287323943661972, 108.72, 'gini = 0.0\\nsamples = 5\\nvalue = [5, 0]'),\n",
       " Text(12.574647887323945, 108.72, 'gini = 0.0\\nsamples = 1\\nvalue = [0, 1]'),\n",
       " Text(12.574647887323945, 142.1723076923077, 'gini = 0.0\\nsamples = 1\\nvalue = [0, 1]'),\n",
       " Text(53.83521126760564, 158.89846153846153, 'X[6] <= 1.197\\ngini = 0.263\\nsamples = 109\\nvalue = [92, 17]'),\n",
       " Text(50.69154929577465, 142.1723076923077, 'X[5] <= 45.4\\ngini = 0.241\\nsamples = 107\\nvalue = [92, 15]'),\n",
       " Text(36.93802816901409, 125.44615384615385, 'X[6] <= 0.501\\ngini = 0.219\\nsamples = 104\\nvalue = [91, 13]'),\n",
       " Text(18.861971830985915, 108.72, 'X[2] <= 53.0\\ngini = 0.116\\nsamples = 65\\nvalue = [61, 4]'),\n",
       " Text(11.002816901408451, 91.99384615384615, 'X[0] <= 2.5\\ngini = 0.48\\nsamples = 5\\nvalue = [3, 2]'),\n",
       " Text(7.859154929577466, 75.2676923076923, 'gini = 0.0\\nsamples = 3\\nvalue = [3, 0]'),\n",
       " Text(14.146478873239438, 75.2676923076923, 'gini = 0.0\\nsamples = 2\\nvalue = [0, 2]'),\n",
       " Text(26.721126760563383, 91.99384615384615, 'X[5] <= 31.8\\ngini = 0.064\\nsamples = 60\\nvalue = [58, 2]'),\n",
       " Text(20.43380281690141, 75.2676923076923, 'X[3] <= 29.0\\ngini = 0.32\\nsamples = 5\\nvalue = [4, 1]'),\n",
       " Text(17.290140845070425, 58.541538461538465, 'gini = 0.0\\nsamples = 4\\nvalue = [4, 0]'),\n",
       " Text(23.577464788732396, 58.541538461538465, 'gini = 0.0\\nsamples = 1\\nvalue = [0, 1]'),\n",
       " Text(33.00845070422535, 75.2676923076923, 'X[2] <= 83.5\\ngini = 0.036\\nsamples = 55\\nvalue = [54, 1]'),\n",
       " Text(29.86478873239437, 58.541538461538465, 'gini = 0.0\\nsamples = 50\\nvalue = [50, 0]'),\n",
       " Text(36.15211267605634, 58.541538461538465, 'X[4] <= 38.0\\ngini = 0.32\\nsamples = 5\\nvalue = [4, 1]'),\n",
       " Text(33.00845070422535, 41.81538461538463, 'gini = 0.0\\nsamples = 1\\nvalue = [0, 1]'),\n",
       " Text(39.29577464788733, 41.81538461538463, 'gini = 0.0\\nsamples = 4\\nvalue = [4, 0]'),\n",
       " Text(55.014084507042256, 108.72, 'X[6] <= 0.554\\ngini = 0.355\\nsamples = 39\\nvalue = [30, 9]'),\n",
       " Text(48.72676056338029, 91.99384615384615, 'X[7] <= 26.5\\ngini = 0.496\\nsamples = 11\\nvalue = [5, 6]'),\n",
       " Text(45.5830985915493, 75.2676923076923, 'X[3] <= 33.5\\ngini = 0.469\\nsamples = 8\\nvalue = [5, 3]'),\n",
       " Text(42.439436619718315, 58.541538461538465, 'gini = 0.0\\nsamples = 4\\nvalue = [4, 0]'),\n",
       " Text(48.72676056338029, 58.541538461538465, 'X[7] <= 25.5\\ngini = 0.375\\nsamples = 4\\nvalue = [1, 3]'),\n",
       " Text(45.5830985915493, 41.81538461538463, 'gini = 0.0\\nsamples = 3\\nvalue = [0, 3]'),\n",
       " Text(51.87042253521127, 41.81538461538463, 'gini = 0.0\\nsamples = 1\\nvalue = [1, 0]'),\n",
       " Text(51.87042253521127, 75.2676923076923, 'gini = 0.0\\nsamples = 3\\nvalue = [0, 3]'),\n",
       " Text(61.30140845070423, 91.99384615384615, 'X[6] <= 0.69\\ngini = 0.191\\nsamples = 28\\nvalue = [25, 3]'),\n",
       " Text(58.15774647887324, 75.2676923076923, 'gini = 0.0\\nsamples = 15\\nvalue = [15, 0]'),\n",
       " Text(64.44507042253521, 75.2676923076923, 'X[6] <= 0.699\\ngini = 0.355\\nsamples = 13\\nvalue = [10, 3]'),\n",
       " Text(61.30140845070423, 58.541538461538465, 'gini = 0.0\\nsamples = 1\\nvalue = [0, 1]'),\n",
       " Text(67.5887323943662, 58.541538461538465, 'X[3] <= 43.5\\ngini = 0.278\\nsamples = 12\\nvalue = [10, 2]'),\n",
       " Text(64.44507042253521, 41.81538461538463, 'X[7] <= 27.5\\ngini = 0.165\\nsamples = 11\\nvalue = [10, 1]'),\n",
       " Text(61.30140845070423, 25.089230769230767, 'gini = 0.0\\nsamples = 9\\nvalue = [9, 0]'),\n",
       " Text(67.5887323943662, 25.089230769230767, 'X[2] <= 59.0\\ngini = 0.5\\nsamples = 2\\nvalue = [1, 1]'),\n",
       " Text(64.44507042253521, 8.363076923076932, 'gini = 0.0\\nsamples = 1\\nvalue = [1, 0]'),\n",
       " Text(70.73239436619718, 8.363076923076932, 'gini = 0.0\\nsamples = 1\\nvalue = [0, 1]'),\n",
       " Text(70.73239436619718, 41.81538461538463, 'gini = 0.0\\nsamples = 1\\nvalue = [0, 1]'),\n",
       " Text(64.44507042253521, 125.44615384615385, 'X[0] <= 2.5\\ngini = 0.444\\nsamples = 3\\nvalue = [1, 2]'),\n",
       " Text(61.30140845070423, 108.72, 'gini = 0.0\\nsamples = 2\\nvalue = [0, 2]'),\n",
       " Text(67.5887323943662, 108.72, 'gini = 0.0\\nsamples = 1\\nvalue = [1, 0]'),\n",
       " Text(56.97887323943662, 142.1723076923077, 'gini = 0.0\\nsamples = 2\\nvalue = [0, 2]'),\n",
       " Text(121.03098591549296, 175.62461538461537, 'X[5] <= 26.35\\ngini = 0.429\\nsamples = 186\\nvalue = [128, 58]'),\n",
       " Text(117.88732394366198, 158.89846153846153, 'gini = 0.0\\nsamples = 34\\nvalue = [34, 0]'),\n",
       " Text(124.17464788732396, 158.89846153846153, 'X[1] <= 103.5\\ngini = 0.472\\nsamples = 152\\nvalue = [94, 58]'),\n",
       " Text(92.73802816901409, 142.1723076923077, 'X[0] <= 11.5\\ngini = 0.282\\nsamples = 59\\nvalue = [49, 10]'),\n",
       " Text(86.45070422535213, 125.44615384615385, 'X[4] <= 205.5\\ngini = 0.222\\nsamples = 55\\nvalue = [48, 7]'),\n",
       " Text(83.30704225352113, 108.72, 'X[6] <= 1.16\\ngini = 0.198\\nsamples = 54\\nvalue = [48, 6]'),\n",
       " Text(80.16338028169015, 91.99384615384615, 'X[1] <= 94.5\\ngini = 0.171\\nsamples = 53\\nvalue = [48, 5]'),\n",
       " Text(77.01971830985916, 75.2676923076923, 'gini = 0.0\\nsamples = 31\\nvalue = [31, 0]'),\n",
       " Text(83.30704225352113, 75.2676923076923, 'X[2] <= 75.0\\ngini = 0.351\\nsamples = 22\\nvalue = [17, 5]'),\n",
       " Text(80.16338028169015, 58.541538461538465, 'gini = 0.0\\nsamples = 11\\nvalue = [11, 0]'),\n",
       " Text(86.45070422535213, 58.541538461538465, 'X[3] <= 38.0\\ngini = 0.496\\nsamples = 11\\nvalue = [6, 5]'),\n",
       " Text(83.30704225352113, 41.81538461538463, 'X[2] <= 83.0\\ngini = 0.469\\nsamples = 8\\nvalue = [3, 5]'),\n",
       " Text(80.16338028169015, 25.089230769230767, 'X[6] <= 0.211\\ngini = 0.278\\nsamples = 6\\nvalue = [1, 5]'),\n",
       " Text(77.01971830985916, 8.363076923076932, 'gini = 0.0\\nsamples = 1\\nvalue = [1, 0]'),\n",
       " Text(83.30704225352113, 8.363076923076932, 'gini = 0.0\\nsamples = 5\\nvalue = [0, 5]'),\n",
       " Text(86.45070422535213, 25.089230769230767, 'gini = 0.0\\nsamples = 2\\nvalue = [2, 0]'),\n",
       " Text(89.5943661971831, 41.81538461538463, 'gini = 0.0\\nsamples = 3\\nvalue = [3, 0]'),\n",
       " Text(86.45070422535213, 91.99384615384615, 'gini = 0.0\\nsamples = 1\\nvalue = [0, 1]'),\n",
       " Text(89.5943661971831, 108.72, 'gini = 0.0\\nsamples = 1\\nvalue = [0, 1]'),\n",
       " Text(99.02535211267606, 125.44615384615385, 'X[3] <= 32.0\\ngini = 0.375\\nsamples = 4\\nvalue = [1, 3]'),\n",
       " Text(95.88169014084508, 108.72, 'gini = 0.0\\nsamples = 3\\nvalue = [0, 3]'),\n",
       " Text(102.16901408450705, 108.72, 'gini = 0.0\\nsamples = 1\\nvalue = [1, 0]'),\n",
       " Text(155.61126760563383, 142.1723076923077, 'X[6] <= 0.561\\ngini = 0.499\\nsamples = 93\\nvalue = [45, 48]'),\n",
       " Text(128.89014084507042, 125.44615384615385, 'X[2] <= 74.5\\ngini = 0.485\\nsamples = 63\\nvalue = [37, 26]'),\n",
       " Text(108.45633802816903, 108.72, 'X[6] <= 0.192\\ngini = 0.493\\nsamples = 34\\nvalue = [15, 19]'),\n",
       " Text(102.16901408450705, 91.99384615384615, 'X[5] <= 27.65\\ngini = 0.278\\nsamples = 6\\nvalue = [5, 1]'),\n",
       " Text(99.02535211267606, 75.2676923076923, 'gini = 0.0\\nsamples = 1\\nvalue = [0, 1]'),\n",
       " Text(105.31267605633803, 75.2676923076923, 'gini = 0.0\\nsamples = 5\\nvalue = [5, 0]'),\n",
       " Text(114.74366197183099, 91.99384615384615, 'X[2] <= 58.0\\ngini = 0.459\\nsamples = 28\\nvalue = [10, 18]'),\n",
       " Text(111.60000000000001, 75.2676923076923, 'gini = 0.0\\nsamples = 2\\nvalue = [2, 0]'),\n",
       " Text(117.88732394366198, 75.2676923076923, 'X[4] <= 37.5\\ngini = 0.426\\nsamples = 26\\nvalue = [8, 18]'),\n",
       " Text(111.60000000000001, 58.541538461538465, 'X[6] <= 0.468\\ngini = 0.278\\nsamples = 18\\nvalue = [3, 15]'),\n",
       " Text(108.45633802816903, 41.81538461538463, 'X[0] <= 8.5\\ngini = 0.208\\nsamples = 17\\nvalue = [2, 15]'),\n",
       " Text(105.31267605633803, 25.089230769230767, 'gini = 0.0\\nsamples = 11\\nvalue = [0, 11]'),\n",
       " Text(111.60000000000001, 25.089230769230767, 'X[6] <= 0.259\\ngini = 0.444\\nsamples = 6\\nvalue = [2, 4]'),\n",
       " Text(108.45633802816903, 8.363076923076932, 'gini = 0.0\\nsamples = 2\\nvalue = [2, 0]'),\n",
       " Text(114.74366197183099, 8.363076923076932, 'gini = 0.0\\nsamples = 4\\nvalue = [0, 4]'),\n",
       " Text(114.74366197183099, 41.81538461538463, 'gini = 0.0\\nsamples = 1\\nvalue = [1, 0]'),\n",
       " Text(124.17464788732396, 58.541538461538465, 'X[6] <= 0.234\\ngini = 0.469\\nsamples = 8\\nvalue = [5, 3]'),\n",
       " Text(121.03098591549296, 41.81538461538463, 'gini = 0.0\\nsamples = 2\\nvalue = [0, 2]'),\n",
       " Text(127.31830985915494, 41.81538461538463, 'X[6] <= 0.528\\ngini = 0.278\\nsamples = 6\\nvalue = [5, 1]'),\n",
       " Text(124.17464788732396, 25.089230769230767, 'gini = 0.0\\nsamples = 5\\nvalue = [5, 0]'),\n",
       " Text(130.46197183098593, 25.089230769230767, 'gini = 0.0\\nsamples = 1\\nvalue = [0, 1]'),\n",
       " Text(149.32394366197184, 108.72, 'X[4] <= 133.5\\ngini = 0.366\\nsamples = 29\\nvalue = [22, 7]'),\n",
       " Text(146.18028169014084, 91.99384615384615, 'X[6] <= 0.132\\ngini = 0.302\\nsamples = 27\\nvalue = [22, 5]'),\n",
       " Text(143.03661971830988, 75.2676923076923, 'gini = 0.0\\nsamples = 1\\nvalue = [0, 1]'),\n",
       " Text(149.32394366197184, 75.2676923076923, 'X[0] <= 7.5\\ngini = 0.26\\nsamples = 26\\nvalue = [22, 4]'),\n",
       " Text(143.03661971830988, 58.541538461538465, 'X[2] <= 76.4\\ngini = 0.111\\nsamples = 17\\nvalue = [16, 1]'),\n",
       " Text(139.89295774647888, 41.81538461538463, 'X[3] <= 13.0\\ngini = 0.444\\nsamples = 3\\nvalue = [2, 1]'),\n",
       " Text(136.7492957746479, 25.089230769230767, 'gini = 0.0\\nsamples = 1\\nvalue = [0, 1]'),\n",
       " Text(143.03661971830988, 25.089230769230767, 'gini = 0.0\\nsamples = 2\\nvalue = [2, 0]'),\n",
       " Text(146.18028169014084, 41.81538461538463, 'gini = 0.0\\nsamples = 14\\nvalue = [14, 0]'),\n",
       " Text(155.61126760563383, 58.541538461538465, 'X[7] <= 38.5\\ngini = 0.444\\nsamples = 9\\nvalue = [6, 3]'),\n",
       " Text(152.46760563380283, 41.81538461538463, 'gini = 0.0\\nsamples = 2\\nvalue = [0, 2]'),\n",
       " Text(158.7549295774648, 41.81538461538463, 'X[6] <= 0.234\\ngini = 0.245\\nsamples = 7\\nvalue = [6, 1]'),\n",
       " Text(155.61126760563383, 25.089230769230767, 'X[2] <= 101.0\\ngini = 0.5\\nsamples = 2\\nvalue = [1, 1]'),\n",
       " Text(152.46760563380283, 8.363076923076932, 'gini = 0.0\\nsamples = 1\\nvalue = [0, 1]'),\n",
       " Text(158.7549295774648, 8.363076923076932, 'gini = 0.0\\nsamples = 1\\nvalue = [1, 0]'),\n",
       " Text(161.8985915492958, 25.089230769230767, 'gini = 0.0\\nsamples = 5\\nvalue = [5, 0]'),\n",
       " Text(152.46760563380283, 91.99384615384615, 'gini = 0.0\\nsamples = 2\\nvalue = [0, 2]'),\n",
       " Text(182.3323943661972, 125.44615384615385, 'X[0] <= 4.5\\ngini = 0.391\\nsamples = 30\\nvalue = [8, 22]'),\n",
       " Text(174.47323943661974, 108.72, 'X[3] <= 24.0\\ngini = 0.475\\nsamples = 18\\nvalue = [7, 11]'),\n",
       " Text(168.18591549295775, 91.99384615384615, 'X[5] <= 29.25\\ngini = 0.408\\nsamples = 7\\nvalue = [5, 2]'),\n",
       " Text(165.04225352112678, 75.2676923076923, 'X[7] <= 38.5\\ngini = 0.444\\nsamples = 3\\nvalue = [1, 2]'),\n",
       " Text(161.8985915492958, 58.541538461538465, 'gini = 0.0\\nsamples = 1\\nvalue = [1, 0]'),\n",
       " Text(168.18591549295775, 58.541538461538465, 'gini = 0.0\\nsamples = 2\\nvalue = [0, 2]'),\n",
       " Text(171.32957746478874, 75.2676923076923, 'gini = 0.0\\nsamples = 4\\nvalue = [4, 0]'),\n",
       " Text(180.7605633802817, 91.99384615384615, 'X[5] <= 31.25\\ngini = 0.298\\nsamples = 11\\nvalue = [2, 9]'),\n",
       " Text(177.61690140845073, 75.2676923076923, 'gini = 0.0\\nsamples = 1\\nvalue = [1, 0]'),\n",
       " Text(183.9042253521127, 75.2676923076923, 'X[7] <= 39.5\\ngini = 0.18\\nsamples = 10\\nvalue = [1, 9]'),\n",
       " Text(180.7605633802817, 58.541538461538465, 'gini = 0.0\\nsamples = 9\\nvalue = [0, 9]'),\n",
       " Text(187.04788732394368, 58.541538461538465, 'gini = 0.0\\nsamples = 1\\nvalue = [1, 0]'),\n",
       " Text(190.19154929577465, 108.72, 'X[3] <= 42.0\\ngini = 0.153\\nsamples = 12\\nvalue = [1, 11]'),\n",
       " Text(187.04788732394368, 91.99384615384615, 'gini = 0.0\\nsamples = 11\\nvalue = [0, 11]'),\n",
       " Text(193.33521126760564, 91.99384615384615, 'gini = 0.0\\nsamples = 1\\nvalue = [1, 0]'),\n",
       " Text(261.7098591549296, 192.35076923076923, 'X[5] <= 29.95\\ngini = 0.452\\nsamples = 197\\nvalue = [68, 129]'),\n",
       " Text(221.62816901408453, 175.62461538461537, 'X[1] <= 145.0\\ngini = 0.449\\nsamples = 53\\nvalue = [35, 18]'),\n",
       " Text(205.9098591549296, 158.89846153846153, 'X[1] <= 134.5\\ngini = 0.211\\nsamples = 25\\nvalue = [22, 3]'),\n",
       " Text(196.47887323943664, 142.1723076923077, 'X[2] <= 69.0\\ngini = 0.48\\nsamples = 5\\nvalue = [3, 2]'),\n",
       " Text(193.33521126760564, 125.44615384615385, 'gini = 0.0\\nsamples = 2\\nvalue = [2, 0]'),\n",
       " Text(199.62253521126763, 125.44615384615385, 'X[3] <= 15.5\\ngini = 0.444\\nsamples = 3\\nvalue = [1, 2]'),\n",
       " Text(196.47887323943664, 108.72, 'gini = 0.0\\nsamples = 2\\nvalue = [0, 2]'),\n",
       " Text(202.7661971830986, 108.72, 'gini = 0.0\\nsamples = 1\\nvalue = [1, 0]'),\n",
       " Text(215.34084507042255, 142.1723076923077, 'X[2] <= 56.0\\ngini = 0.095\\nsamples = 20\\nvalue = [19, 1]'),\n",
       " Text(212.19718309859158, 125.44615384615385, 'X[6] <= 0.528\\ngini = 0.444\\nsamples = 3\\nvalue = [2, 1]'),\n",
       " Text(209.0535211267606, 108.72, 'gini = 0.0\\nsamples = 1\\nvalue = [0, 1]'),\n",
       " Text(215.34084507042255, 108.72, 'gini = 0.0\\nsamples = 2\\nvalue = [2, 0]'),\n",
       " Text(218.48450704225354, 125.44615384615385, 'gini = 0.0\\nsamples = 17\\nvalue = [17, 0]'),\n",
       " Text(237.34647887323945, 158.89846153846153, 'X[7] <= 28.5\\ngini = 0.497\\nsamples = 28\\nvalue = [13, 15]'),\n",
       " Text(227.9154929577465, 142.1723076923077, 'X[5] <= 26.25\\ngini = 0.278\\nsamples = 6\\nvalue = [5, 1]'),\n",
       " Text(224.7718309859155, 125.44615384615385, 'gini = 0.0\\nsamples = 3\\nvalue = [3, 0]'),\n",
       " Text(231.0591549295775, 125.44615384615385, 'X[2] <= 74.5\\ngini = 0.444\\nsamples = 3\\nvalue = [2, 1]'),\n",
       " Text(227.9154929577465, 108.72, 'gini = 0.0\\nsamples = 1\\nvalue = [0, 1]'),\n",
       " Text(234.20281690140848, 108.72, 'gini = 0.0\\nsamples = 2\\nvalue = [2, 0]'),\n",
       " Text(246.7774647887324, 142.1723076923077, 'X[7] <= 61.0\\ngini = 0.463\\nsamples = 22\\nvalue = [8, 14]'),\n",
       " Text(243.63380281690144, 125.44615384615385, 'X[1] <= 164.5\\ngini = 0.388\\nsamples = 19\\nvalue = [5, 14]'),\n",
       " Text(240.49014084507044, 108.72, 'X[7] <= 41.0\\ngini = 0.496\\nsamples = 11\\nvalue = [5, 6]'),\n",
       " Text(234.20281690140848, 91.99384615384615, 'X[7] <= 32.5\\ngini = 0.32\\nsamples = 5\\nvalue = [4, 1]'),\n",
       " Text(231.0591549295775, 75.2676923076923, 'gini = 0.0\\nsamples = 1\\nvalue = [0, 1]'),\n",
       " Text(237.34647887323945, 75.2676923076923, 'gini = 0.0\\nsamples = 4\\nvalue = [4, 0]'),\n",
       " Text(246.7774647887324, 91.99384615384615, 'X[7] <= 53.5\\ngini = 0.278\\nsamples = 6\\nvalue = [1, 5]'),\n",
       " Text(243.63380281690144, 75.2676923076923, 'gini = 0.0\\nsamples = 5\\nvalue = [0, 5]'),\n",
       " Text(249.9211267605634, 75.2676923076923, 'gini = 0.0\\nsamples = 1\\nvalue = [1, 0]'),\n",
       " Text(246.7774647887324, 108.72, 'gini = 0.0\\nsamples = 8\\nvalue = [0, 8]'),\n",
       " Text(249.9211267605634, 125.44615384615385, 'gini = 0.0\\nsamples = 3\\nvalue = [3, 0]'),\n",
       " Text(301.79154929577464, 175.62461538461537, 'X[1] <= 157.5\\ngini = 0.353\\nsamples = 144\\nvalue = [33, 111]'),\n",
       " Text(282.92957746478874, 158.89846153846153, 'X[4] <= 187.0\\ngini = 0.448\\nsamples = 71\\nvalue = [24, 47]'),\n",
       " Text(268.78309859154933, 142.1723076923077, 'X[6] <= 0.285\\ngini = 0.375\\nsamples = 52\\nvalue = [13, 39]'),\n",
       " Text(256.20845070422536, 125.44615384615385, 'X[5] <= 32.45\\ngini = 0.5\\nsamples = 18\\nvalue = [9, 9]'),\n",
       " Text(253.0647887323944, 108.72, 'gini = 0.0\\nsamples = 3\\nvalue = [3, 0]'),\n",
       " Text(259.3521126760564, 108.72, 'X[7] <= 27.5\\ngini = 0.48\\nsamples = 15\\nvalue = [6, 9]'),\n",
       " Text(256.20845070422536, 91.99384615384615, 'gini = 0.0\\nsamples = 3\\nvalue = [3, 0]'),\n",
       " Text(262.49577464788734, 91.99384615384615, 'X[2] <= 77.0\\ngini = 0.375\\nsamples = 12\\nvalue = [3, 9]'),\n",
       " Text(259.3521126760564, 75.2676923076923, 'gini = 0.0\\nsamples = 5\\nvalue = [0, 5]'),\n",
       " Text(265.6394366197183, 75.2676923076923, 'X[2] <= 89.5\\ngini = 0.49\\nsamples = 7\\nvalue = [3, 4]'),\n",
       " Text(262.49577464788734, 58.541538461538465, 'X[0] <= 4.5\\ngini = 0.375\\nsamples = 4\\nvalue = [3, 1]'),\n",
       " Text(259.3521126760564, 41.81538461538463, 'gini = 0.0\\nsamples = 1\\nvalue = [0, 1]'),\n",
       " Text(265.6394366197183, 41.81538461538463, 'gini = 0.0\\nsamples = 3\\nvalue = [3, 0]'),\n",
       " Text(268.78309859154933, 58.541538461538465, 'gini = 0.0\\nsamples = 3\\nvalue = [0, 3]'),\n",
       " Text(281.35774647887325, 125.44615384615385, 'X[7] <= 36.0\\ngini = 0.208\\nsamples = 34\\nvalue = [4, 30]'),\n",
       " Text(278.2140845070423, 108.72, 'X[0] <= 10.0\\ngini = 0.346\\nsamples = 18\\nvalue = [4, 14]'),\n",
       " Text(275.07042253521126, 91.99384615384615, 'X[3] <= 24.5\\ngini = 0.291\\nsamples = 17\\nvalue = [3, 14]'),\n",
       " Text(271.9267605633803, 75.2676923076923, 'gini = 0.0\\nsamples = 7\\nvalue = [0, 7]'),\n",
       " Text(278.2140845070423, 75.2676923076923, 'X[6] <= 0.432\\ngini = 0.42\\nsamples = 10\\nvalue = [3, 7]'),\n",
       " Text(275.07042253521126, 58.541538461538465, 'gini = 0.0\\nsamples = 5\\nvalue = [0, 5]'),\n",
       " Text(281.35774647887325, 58.541538461538465, 'X[4] <= 143.5\\ngini = 0.48\\nsamples = 5\\nvalue = [3, 2]'),\n",
       " Text(278.2140845070423, 41.81538461538463, 'gini = 0.0\\nsamples = 3\\nvalue = [3, 0]'),\n",
       " Text(284.5014084507043, 41.81538461538463, 'gini = 0.0\\nsamples = 2\\nvalue = [0, 2]'),\n",
       " Text(281.35774647887325, 91.99384615384615, 'gini = 0.0\\nsamples = 1\\nvalue = [1, 0]'),\n",
       " Text(284.5014084507043, 108.72, 'gini = 0.0\\nsamples = 16\\nvalue = [0, 16]'),\n",
       " Text(297.0760563380282, 142.1723076923077, 'X[7] <= 42.5\\ngini = 0.488\\nsamples = 19\\nvalue = [11, 8]'),\n",
       " Text(293.93239436619723, 125.44615384615385, 'X[5] <= 41.9\\ngini = 0.337\\nsamples = 14\\nvalue = [11, 3]'),\n",
       " Text(290.7887323943662, 108.72, 'X[2] <= 57.0\\ngini = 0.153\\nsamples = 12\\nvalue = [11, 1]'),\n",
       " Text(287.64507042253524, 91.99384615384615, 'gini = 0.0\\nsamples = 1\\nvalue = [0, 1]'),\n",
       " Text(293.93239436619723, 91.99384615384615, 'gini = 0.0\\nsamples = 11\\nvalue = [11, 0]'),\n",
       " Text(297.0760563380282, 108.72, 'gini = 0.0\\nsamples = 2\\nvalue = [0, 2]'),\n",
       " Text(300.21971830985916, 125.44615384615385, 'gini = 0.0\\nsamples = 5\\nvalue = [0, 5]'),\n",
       " Text(320.6535211267606, 158.89846153846153, 'X[4] <= 629.5\\ngini = 0.216\\nsamples = 73\\nvalue = [9, 64]'),\n",
       " Text(312.79436619718314, 142.1723076923077, 'X[7] <= 44.5\\ngini = 0.18\\nsamples = 70\\nvalue = [7, 63]'),\n",
       " Text(306.50704225352115, 125.44615384615385, 'X[6] <= 0.307\\ngini = 0.105\\nsamples = 54\\nvalue = [3, 51]'),\n",
       " Text(303.3633802816902, 108.72, 'X[6] <= 0.258\\ngini = 0.305\\nsamples = 16\\nvalue = [3, 13]'),\n",
       " Text(300.21971830985916, 91.99384615384615, 'gini = 0.0\\nsamples = 10\\nvalue = [0, 10]'),\n",
       " Text(306.50704225352115, 91.99384615384615, 'X[2] <= 69.0\\ngini = 0.5\\nsamples = 6\\nvalue = [3, 3]'),\n",
       " Text(303.3633802816902, 75.2676923076923, 'gini = 0.0\\nsamples = 2\\nvalue = [2, 0]'),\n",
       " Text(309.6507042253521, 75.2676923076923, 'X[7] <= 27.0\\ngini = 0.375\\nsamples = 4\\nvalue = [1, 3]'),\n",
       " Text(306.50704225352115, 58.541538461538465, 'gini = 0.0\\nsamples = 1\\nvalue = [1, 0]'),\n",
       " Text(312.79436619718314, 58.541538461538465, 'gini = 0.0\\nsamples = 3\\nvalue = [0, 3]'),\n",
       " Text(309.6507042253521, 108.72, 'gini = 0.0\\nsamples = 38\\nvalue = [0, 38]'),\n",
       " Text(319.08169014084507, 125.44615384615385, 'X[6] <= 1.337\\ngini = 0.375\\nsamples = 16\\nvalue = [4, 12]'),\n",
       " Text(315.9380281690141, 108.72, 'X[2] <= 69.0\\ngini = 0.32\\nsamples = 15\\nvalue = [3, 12]'),\n",
       " Text(312.79436619718314, 91.99384615384615, 'gini = 0.0\\nsamples = 1\\nvalue = [1, 0]'),\n",
       " Text(319.08169014084507, 91.99384615384615, 'X[3] <= 30.0\\ngini = 0.245\\nsamples = 14\\nvalue = [2, 12]'),\n",
       " Text(315.9380281690141, 75.2676923076923, 'gini = 0.0\\nsamples = 10\\nvalue = [0, 10]'),\n",
       " Text(322.2253521126761, 75.2676923076923, 'X[4] <= 183.5\\ngini = 0.5\\nsamples = 4\\nvalue = [2, 2]'),\n",
       " Text(319.08169014084507, 58.541538461538465, 'gini = 0.0\\nsamples = 2\\nvalue = [2, 0]'),\n",
       " Text(325.36901408450706, 58.541538461538465, 'gini = 0.0\\nsamples = 2\\nvalue = [0, 2]'),\n",
       " Text(322.2253521126761, 108.72, 'gini = 0.0\\nsamples = 1\\nvalue = [1, 0]'),\n",
       " Text(328.5126760563381, 142.1723076923077, 'X[5] <= 33.4\\ngini = 0.444\\nsamples = 3\\nvalue = [2, 1]'),\n",
       " Text(325.36901408450706, 125.44615384615385, 'gini = 0.0\\nsamples = 1\\nvalue = [0, 1]'),\n",
       " Text(331.65633802816905, 125.44615384615385, 'gini = 0.0\\nsamples = 2\\nvalue = [2, 0]')]"
      ]
     },
     "execution_count": 46,
     "metadata": {},
     "output_type": "execute_result"
    },
    {
     "data": {
      "image/png": "[encoded data removed]",
      "text/plain": [
       "<Figure size 432x288 with 1 Axes>"
      ]
     },
     "metadata": {
      "needs_background": "light"
     },
     "output_type": "display_data"
    }
   ],
   "source": [
    "plot_tree(dt_clf)"
   ]
  },
  {
   "cell_type": "code",
   "execution_count": null,
   "metadata": {},
   "outputs": [],
   "source": []
  }
 ],
 "metadata": {
  "kernelspec": {
   "display_name": "Python 3",
   "language": "python",
   "name": "python3"
  },
  "language_info": {
   "codemirror_mode": {
    "name": "ipython",
    "version": 3
   },
   "file_extension": ".py",
   "mimetype": "text/x-python",
   "name": "python",
   "nbconvert_exporter": "python",
   "pygments_lexer": "ipython3",
   "version": "3.7.3"
  }
 },
 "nbformat": 4,
 "nbformat_minor": 2
}
